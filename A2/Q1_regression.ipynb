{
 "cells": [
  {
   "cell_type": "code",
   "execution_count": 1,
   "metadata": {},
   "outputs": [],
   "source": [
    "# import necessary modules\n",
    "import pandas as pd\n",
    "import numpy as np\n",
    "import matplotlib.pyplot as plt\n",
    "import house_sales_data as hsd\n",
    "from sklearn.model_selection import train_test_split"
   ]
  },
  {
   "cell_type": "code",
   "execution_count": 2,
   "metadata": {},
   "outputs": [
    {
     "name": "stdout",
     "output_type": "stream",
     "text": [
      "dict_keys(['price', 'area', 'beds', 'baths', 'condo', 'location'])\n"
     ]
    }
   ],
   "source": [
    "## Sacramento house price data; load\n",
    "data = hsd.house_sales_data()\n",
    "print(data.keys())\n",
    "\n",
    "## Get the target (i.e., price) and two features\n",
    "price = data[\"price\"]\n",
    "beds = data[\"beds\"]\n",
    "area = data[\"area\"]"
   ]
  },
  {
   "cell_type": "code",
   "execution_count": 3,
   "metadata": {},
   "outputs": [],
   "source": [
    "# Implement gradient descent (NOT SGD, just simple GD!)\n",
    "def gradient_descent(X, y, max_iteration, learning_rate):\n",
    "    m, n = X.shape\n",
    "    theta = np.zeros(n)\n",
    "    costs = np.zeros(max_iteration)\n",
    "    alpha=learning_rate\n",
    "    for i in range(max_iteration):\n",
    "        grad=np.zeros(n)\n",
    "        for j in range(m):\n",
    "            y_hat=X[j]@theta\n",
    "            costs[i]+=1/m*(y_hat-y[j])**2\n",
    "            for k in range(n):\n",
    "                grad[k]+=1/m*2*(y_hat-y[j])*X[j,k]\n",
    "        theta -=alpha*grad\n",
    "    return theta,costs"
   ]
  },
  {
   "cell_type": "code",
   "execution_count": 4,
   "metadata": {},
   "outputs": [],
   "source": [
    "# Normalize data \n",
    "def normalize_data(X, y, normalize_cols):\n",
    "    min_X = X[:,normalize_cols].min(axis=0)\n",
    "    max_X = X[:,normalize_cols].max(axis=0)\n",
    "    min_y = y.min()\n",
    "    max_y = y.max()\n",
    "    X[:,normalize_cols] = (X[:,normalize_cols] - min_X) / (max_X - min_X)\n",
    "    y[:] = (y - min_y) / (max_y - min_y)\n",
    "    return X,y,min_X, max_X, min_y, max_y"
   ]
  },
  {
   "cell_type": "code",
   "execution_count": 5,
   "metadata": {},
   "outputs": [],
   "source": [
    "# Implement an evaluation metric for regression\n",
    "def evaluation_metric(y,y_hat):\n",
    "    return np.sqrt(np.square(np.subtract(y,y_hat).mean()))"
   ]
  },
  {
   "cell_type": "code",
   "execution_count": 6,
   "metadata": {},
   "outputs": [],
   "source": [
    "# Prepare data this way\n",
    "X_train = np.hstack((area[:,np.newaxis], beds[:,np.newaxis], np.ones(area.shape[0])[:,np.newaxis]))\n",
    "y_train = price\n",
    "X, y, min_X, max_X, min_y, max_y = normalize_data(X_train, y_train, [True, True, False])\n",
    "X_train, X_test, y_train, y_test = train_test_split(X, y, test_size=0.2, random_state=42)"
   ]
  },
  {
   "cell_type": "code",
   "execution_count": 7,
   "metadata": {},
   "outputs": [
    {
     "data": {
      "text/plain": [
       "(array([0.20860415, 0.14874024, 0.15101251]),\n",
       " array([0.10482456, 0.1008441 , 0.0970652 , 0.09347762, 0.09007163,\n",
       "        0.08683802, 0.08376801, 0.08085329, 0.07808596, 0.07545855,\n",
       "        0.07296392, 0.07059534, 0.0683464 , 0.06621101, 0.06418341,\n",
       "        0.06225812, 0.06042993, 0.05869392, 0.0570454 , 0.05547991,\n",
       "        0.05399325, 0.05258141, 0.05124057, 0.04996714, 0.04875769,\n",
       "        0.04760897, 0.04651789, 0.04548152, 0.04449709, 0.04356194,\n",
       "        0.04267359, 0.04182965, 0.04102786, 0.04026608, 0.03954229,\n",
       "        0.03885454, 0.03820102, 0.03757997, 0.03698975, 0.0364288 ,\n",
       "        0.03589563, 0.03538882, 0.03490704, 0.03444901, 0.03401354,\n",
       "        0.03359947, 0.03320571, 0.03283124, 0.03247508, 0.03213629,\n",
       "        0.031814  , 0.03150736, 0.03121559, 0.03093792, 0.03067365,\n",
       "        0.03042209, 0.03018259, 0.02995455, 0.02973738, 0.02953053,\n",
       "        0.02933348, 0.02914573, 0.02896681, 0.02879627, 0.02863369,\n",
       "        0.02847865, 0.02833079, 0.02818974, 0.02805514, 0.02792668,\n",
       "        0.02780405, 0.02768694, 0.02757508, 0.0274682 , 0.02736605,\n",
       "        0.02726839, 0.027175  , 0.02708565, 0.02700015, 0.0269183 ,\n",
       "        0.0268399 , 0.0267648 , 0.02669282, 0.02662381, 0.02655761,\n",
       "        0.02649409, 0.0264331 , 0.02637452, 0.02631824, 0.02626412,\n",
       "        0.02621207, 0.02616198, 0.02611375, 0.02606729, 0.02602251,\n",
       "        0.02597932, 0.02593765, 0.02589741, 0.02585855, 0.02582098,\n",
       "        0.02578464, 0.02574947, 0.02571542, 0.02568242, 0.02565043,\n",
       "        0.02561939, 0.02558926, 0.02555999, 0.02553154, 0.02550386,\n",
       "        0.02547693, 0.0254507 , 0.02542514, 0.02540021, 0.02537588,\n",
       "        0.02535213, 0.02532893, 0.02530624, 0.02528405, 0.02526233,\n",
       "        0.02524106, 0.0252202 , 0.02519976, 0.0251797 , 0.02516   ,\n",
       "        0.02514065, 0.02512164, 0.02510294, 0.02508453, 0.02506642,\n",
       "        0.02504858, 0.025031  , 0.02501366, 0.02499656, 0.02497969,\n",
       "        0.02496303, 0.02494658, 0.02493032, 0.02491424, 0.02489834,\n",
       "        0.02488261, 0.02486705, 0.02485163, 0.02483637, 0.02482125,\n",
       "        0.02480626, 0.02479139, 0.02477666, 0.02476203, 0.02474753,\n",
       "        0.02473313, 0.02471883, 0.02470463, 0.02469053, 0.02467651,\n",
       "        0.02466259, 0.02464875, 0.02463498, 0.0246213 , 0.02460769,\n",
       "        0.02459415, 0.02458068, 0.02456727, 0.02455393, 0.02454065,\n",
       "        0.02452743, 0.02451426, 0.02450115, 0.02448809, 0.02447508,\n",
       "        0.02446213, 0.02444922, 0.02443635, 0.02442354, 0.02441076,\n",
       "        0.02439803, 0.02438533, 0.02437268, 0.02436006, 0.02434749,\n",
       "        0.02433495, 0.02432244, 0.02430997, 0.02429753, 0.02428512,\n",
       "        0.02427275, 0.02426041, 0.0242481 , 0.02423581, 0.02422356,\n",
       "        0.02421134, 0.02419914, 0.02418697, 0.02417482, 0.02416271,\n",
       "        0.02415062, 0.02413855, 0.02412651, 0.02411449, 0.0241025 ,\n",
       "        0.02409053, 0.02407859, 0.02406666, 0.02405476, 0.02404289,\n",
       "        0.02403103, 0.0240192 , 0.02400738, 0.02399559, 0.02398382,\n",
       "        0.02397207, 0.02396034, 0.02394863, 0.02393694, 0.02392528,\n",
       "        0.02391363, 0.023902  , 0.02389039, 0.02387879, 0.02386722,\n",
       "        0.02385567, 0.02384413, 0.02383262, 0.02382112, 0.02380964,\n",
       "        0.02379818, 0.02378674, 0.02377531, 0.02376391, 0.02375252,\n",
       "        0.02374115, 0.02372979, 0.02371846, 0.02370714, 0.02369584,\n",
       "        0.02368455, 0.02367328, 0.02366203, 0.0236508 , 0.02363958,\n",
       "        0.02362839, 0.0236172 , 0.02360604, 0.02359489, 0.02358376,\n",
       "        0.02357264, 0.02356154, 0.02355046, 0.02353939, 0.02352834,\n",
       "        0.02351731, 0.02350629, 0.02349529, 0.0234843 , 0.02347333,\n",
       "        0.02346238, 0.02345145, 0.02344052, 0.02342962, 0.02341873,\n",
       "        0.02340786, 0.023397  , 0.02338616, 0.02337533, 0.02336452,\n",
       "        0.02335373, 0.02334295, 0.02333219, 0.02332144, 0.02331071,\n",
       "        0.02329999, 0.02328929, 0.0232786 , 0.02326793, 0.02325728,\n",
       "        0.02324664, 0.02323602, 0.02322541, 0.02321481, 0.02320424,\n",
       "        0.02319367, 0.02318312, 0.02317259, 0.02316207, 0.02315157,\n",
       "        0.02314108, 0.02313061, 0.02312016, 0.02310971, 0.02309929,\n",
       "        0.02308887, 0.02307848, 0.02306809, 0.02305773, 0.02304737,\n",
       "        0.02303704, 0.02302671, 0.0230164 , 0.02300611, 0.02299583,\n",
       "        0.02298557, 0.02297532, 0.02296508, 0.02295486, 0.02294466,\n",
       "        0.02293447, 0.02292429, 0.02291413, 0.02290398, 0.02289385,\n",
       "        0.02288373, 0.02287362, 0.02286353, 0.02285346, 0.0228434 ,\n",
       "        0.02283335, 0.02282332, 0.0228133 , 0.0228033 , 0.02279331,\n",
       "        0.02278333, 0.02277337, 0.02276342, 0.02275349, 0.02274357,\n",
       "        0.02273367, 0.02272378, 0.0227139 , 0.02270404, 0.02269419,\n",
       "        0.02268436, 0.02267454, 0.02266473, 0.02265494, 0.02264516,\n",
       "        0.0226354 , 0.02262565, 0.02261591, 0.02260619, 0.02259648,\n",
       "        0.02258678, 0.0225771 , 0.02256743, 0.02255778, 0.02254814,\n",
       "        0.02253851, 0.0225289 , 0.0225193 , 0.02250971, 0.02250014,\n",
       "        0.02249058, 0.02248104, 0.02247151, 0.02246199, 0.02245249,\n",
       "        0.022443  , 0.02243352, 0.02242405, 0.0224146 , 0.02240517,\n",
       "        0.02239574, 0.02238633, 0.02237694, 0.02236755, 0.02235818,\n",
       "        0.02234882, 0.02233948, 0.02233015, 0.02232083, 0.02231153,\n",
       "        0.02230224, 0.02229296, 0.0222837 , 0.02227444, 0.02226521,\n",
       "        0.02225598, 0.02224677, 0.02223757, 0.02222838, 0.02221921,\n",
       "        0.02221005, 0.0222009 , 0.02219177, 0.02218265, 0.02217354,\n",
       "        0.02216444, 0.02215536, 0.02214629, 0.02213723, 0.02212819,\n",
       "        0.02211916, 0.02211014, 0.02210113, 0.02209214, 0.02208316,\n",
       "        0.02207419, 0.02206523, 0.02205629, 0.02204736, 0.02203844,\n",
       "        0.02202954, 0.02202065, 0.02201177, 0.0220029 , 0.02199405,\n",
       "        0.0219852 , 0.02197637, 0.02196756, 0.02195875, 0.02194996,\n",
       "        0.02194118, 0.02193241, 0.02192366, 0.02191491, 0.02190618,\n",
       "        0.02189746, 0.02188876, 0.02188007, 0.02187138, 0.02186271,\n",
       "        0.02185406, 0.02184541, 0.02183678, 0.02182816, 0.02181955,\n",
       "        0.02181096, 0.02180237, 0.0217938 , 0.02178524, 0.02177669,\n",
       "        0.02176816, 0.02175963, 0.02175112, 0.02174262, 0.02173413,\n",
       "        0.02172566, 0.02171719, 0.02170874, 0.0217003 , 0.02169187,\n",
       "        0.02168345, 0.02167505, 0.02166666, 0.02165828, 0.02164991,\n",
       "        0.02164155, 0.0216332 , 0.02162487, 0.02161655, 0.02160824,\n",
       "        0.02159994, 0.02159165, 0.02158337, 0.02157511, 0.02156686,\n",
       "        0.02155861, 0.02155039, 0.02154217, 0.02153396, 0.02152577,\n",
       "        0.02151758, 0.02150941, 0.02150125, 0.0214931 , 0.02148496,\n",
       "        0.02147684, 0.02146872, 0.02146062, 0.02145253, 0.02144445,\n",
       "        0.02143638, 0.02142832, 0.02142027, 0.02141224, 0.02140421,\n",
       "        0.0213962 , 0.0213882 , 0.02138021, 0.02137223, 0.02136426,\n",
       "        0.0213563 , 0.02134836, 0.02134042, 0.0213325 , 0.02132458,\n",
       "        0.02131668, 0.02130879, 0.02130091, 0.02129304, 0.02128519,\n",
       "        0.02127734, 0.0212695 , 0.02126168, 0.02125387, 0.02124606,\n",
       "        0.02123827, 0.02123049, 0.02122272, 0.02121496, 0.02120721]))"
      ]
     },
     "execution_count": 7,
     "metadata": {},
     "output_type": "execute_result"
    }
   ],
   "source": [
    "# call gradient descent and fine-tune your learning rate\n",
    "gradient_descent(X_train,y_train,500,0.01)"
   ]
  },
  {
   "cell_type": "code",
   "execution_count": 8,
   "metadata": {},
   "outputs": [
    {
     "data": {
      "text/plain": [
       "[<matplotlib.lines.Line2D at 0x7efc092d9460>]"
      ]
     },
     "execution_count": 8,
     "metadata": {},
     "output_type": "execute_result"
    },
    {
     "data": {
      "image/png": "[encoded data removed]",
      "text/plain": [
       "<Figure size 432x288 with 1 Axes>"
      ]
     },
     "metadata": {
      "needs_background": "light"
     },
     "output_type": "display_data"
    }
   ],
   "source": [
    "# plot cost vs iterations \n",
    "# note gradient descent return costs for all iterations\n",
    "theta_for500,costs=gradient_descent(X_train,y_train,500,0.01)\n",
    "plt.plot(costs,'r.-')"
   ]
  },
  {
   "cell_type": "code",
   "execution_count": 9,
   "metadata": {},
   "outputs": [
    {
     "name": "stdout",
     "output_type": "stream",
     "text": [
      "0.010036888206451202\n",
      "0.006933272329693822\n"
     ]
    }
   ],
   "source": [
    "# print evaluation metric for test set while\n",
    "# changing max_iteration from 500 to 2000\n",
    "\n",
    "##### for 500\n",
    "theta_for500,costs=gradient_descent(X_train,y_train,500,0.01)\n",
    "y_test_hat500=X_test@theta_for500\n",
    "print(evaluation_metric(y_test,y_test_hat500))\n",
    "\n",
    "########## for 2000\n",
    "theta_for2000,costs=gradient_descent(X_train,y_train,2000,0.01)\n",
    "y_test_hat2000=X_test@theta_for2000\n",
    "print(evaluation_metric(y_test,y_test_hat2000))\n",
    "\n",
    "# Note the best value of evaluation metric you get"
   ]
  },
  {
   "cell_type": "markdown",
   "metadata": {},
   "source": [
    "### best evaluation metric is for 2000 iterations"
   ]
  },
  {
   "cell_type": "code",
   "execution_count": 10,
   "metadata": {},
   "outputs": [],
   "source": [
    "# compare your solution with scikit-learn library\n",
    "from sklearn import datasets, linear_model"
   ]
  },
  {
   "cell_type": "code",
   "execution_count": 11,
   "metadata": {},
   "outputs": [],
   "source": [
    "# Create linear regression object\n",
    "from sklearn.linear_model import LinearRegression"
   ]
  },
  {
   "cell_type": "code",
   "execution_count": 12,
   "metadata": {},
   "outputs": [
    {
     "data": {
      "text/plain": [
       "LinearRegression()"
      ]
     },
     "execution_count": 12,
     "metadata": {},
     "output_type": "execute_result"
    }
   ],
   "source": [
    "# Train the model using the training sets\n",
    "LR= LinearRegression()\n",
    "LR.fit(X_train,y_train)"
   ]
  },
  {
   "cell_type": "code",
   "execution_count": 13,
   "metadata": {},
   "outputs": [
    {
     "data": {
      "text/plain": [
       "0.006546762800805023"
      ]
     },
     "execution_count": 13,
     "metadata": {},
     "output_type": "execute_result"
    }
   ],
   "source": [
    "# Predict on test set and print evaluation metric\n",
    "predicted_data=LR.predict(X_test)\n",
    "predicted_data\n",
    "evaluation_metric(y_test,predicted_data)"
   ]
  },
  {
   "cell_type": "code",
   "execution_count": 14,
   "metadata": {},
   "outputs": [
    {
     "data": {
      "text/plain": [
       "0.0003865095288887947"
      ]
     },
     "execution_count": 14,
     "metadata": {},
     "output_type": "execute_result"
    }
   ],
   "source": [
    "# How much does it differ by from \n",
    "evaluation_metric(y_test_hat2000,predicted_data)"
   ]
  }
 ],
 "metadata": {
  "kernelspec": {
   "display_name": "Python 3",
   "language": "python",
   "name": "python3"
  },
  "language_info": {
   "codemirror_mode": {
    "name": "ipython",
    "version": 3
   },
   "file_extension": ".py",
   "mimetype": "text/x-python",
   "name": "python",
   "nbconvert_exporter": "python",
   "pygments_lexer": "ipython3",
   "version": "3.8.5"
  }
 },
 "nbformat": 4,
 "nbformat_minor": 4
}
