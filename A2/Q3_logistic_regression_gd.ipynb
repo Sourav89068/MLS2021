{
 "cells": [
  {
   "cell_type": "code",
   "execution_count": 1,
   "metadata": {},
   "outputs": [],
   "source": [
    "import numpy as np\n",
    "from matplotlib import pyplot as plt\n",
    "from sklearn.preprocessing import StandardScaler\n",
    "from sklearn.linear_model import LogisticRegression\n",
    "from sklearn.datasets import make_classification\n",
    "from sklearn.model_selection import train_test_split\n",
    "import sklearn.datasets\n",
    "from sklearn import metrics"
   ]
  },
  {
   "cell_type": "code",
   "execution_count": 10,
   "metadata": {},
   "outputs": [],
   "source": [
    "# load load_breast_cancer\n",
    "dat = sklearn.datasets.load_breast_cancer()"
   ]
  },
  {
   "cell_type": "code",
   "execution_count": 12,
   "metadata": {},
   "outputs": [
    {
     "name": "stdout",
     "output_type": "stream",
     "text": [
      "[6.54889104e+02 4.89191459e-02] [3.51604754e+02 3.87687325e-02]\n",
      "[-8.79983452e-16  9.73249991e-16] [1. 1.]\n"
     ]
    }
   ],
   "source": [
    "# normalize (use StandardScaler if you wish)\n",
    "from sklearn.preprocessing import StandardScaler\n",
    "ix = np.where(dat[\"feature_names\"] == \"mean area\")[0][0]\n",
    "iy = np.where(dat[\"feature_names\"] == \"mean concave points\")[0][0]\n",
    "\n",
    "X0 = np.asarray([dat[\"data\"][:,ix], dat[\"data\"][:,iy], np.ones(dat[\"data\"].shape[0])]).T\n",
    "y0 = (1.*(dat[\"target\"]==np.where(dat[\"target_names\"] == \"malignant\")[0][0]) +\n",
    "     -1.*(dat[\"target\"]==np.where(dat[\"target_names\"] == \"benign\")[0][0]))\n",
    "X,y = X0.copy()[:,:-1], y0.copy()\n",
    "X,y = X0.copy()[:,:-1], y0.copy() # scikit learn doesn't require additional all-ones columns\n",
    "print(np.mean(X,axis=0), np.std(X,axis=0))\n",
    "norm = StandardScaler()\n",
    "norm.fit(X)\n",
    "print(np.mean(norm.transform(X),axis=0), np.std(norm.transform(X),axis=0))"
   ]
  },
  {
   "cell_type": "code",
   "execution_count": 4,
   "metadata": {},
   "outputs": [],
   "source": [
    "# partition with test size 0.3"
   ]
  },
  {
   "cell_type": "code",
   "execution_count": 5,
   "metadata": {},
   "outputs": [],
   "source": [
    "# fit logistic regression and draw ROC curve\n",
    "# use predict_log_proba()"
   ]
  },
  {
   "cell_type": "code",
   "execution_count": 6,
   "metadata": {},
   "outputs": [],
   "source": [
    "# What happens to the \"score\" when C = 1, 1/10, 150, 100, 1000?"
   ]
  }
 ],
 "metadata": {
  "kernelspec": {
   "display_name": "Python 3",
   "language": "python",
   "name": "python3"
  },
  "language_info": {
   "codemirror_mode": {
    "name": "ipython",
    "version": 3
   },
   "file_extension": ".py",
   "mimetype": "text/x-python",
   "name": "python",
   "nbconvert_exporter": "python",
   "pygments_lexer": "ipython3",
   "version": "3.8.5"
  }
 },
 "nbformat": 4,
 "nbformat_minor": 4
}
